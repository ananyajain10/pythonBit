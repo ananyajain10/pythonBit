{
  "nbformat": 4,
  "nbformat_minor": 0,
  "metadata": {
    "colab": {
      "provenance": [],
      "authorship_tag": "ABX9TyN6zIbECbdHXs9wOQbgDt5t",
      "include_colab_link": true
    },
    "kernelspec": {
      "name": "python3",
      "display_name": "Python 3"
    },
    "language_info": {
      "name": "python"
    }
  },
  "cells": [
    {
      "cell_type": "markdown",
      "metadata": {
        "id": "view-in-github",
        "colab_type": "text"
      },
      "source": [
        "<a href=\"https://colab.research.google.com/github/ananyajain10/pythonBit/blob/main/classes_py.ipynb\" target=\"_parent\"><img src=\"https://colab.research.google.com/assets/colab-badge.svg\" alt=\"Open In Colab\"/></a>"
      ]
    },
    {
      "cell_type": "code",
      "execution_count": null,
      "metadata": {
        "colab": {
          "base_uri": "https://localhost:8080/"
        },
        "id": "s9AU0im559Fn",
        "outputId": "51e63357-4fdf-4ccb-8e56-72f02d0788f3"
      },
      "outputs": [
        {
          "output_type": "stream",
          "name": "stdout",
          "text": [
            "hello\n"
          ]
        }
      ],
      "source": [
        "print(\"hello\")"
      ]
    },
    {
      "cell_type": "code",
      "source": [
        "class Myclass:\n",
        "  x=5\n",
        "p1= Myclass\n",
        "print(p1)"
      ],
      "metadata": {
        "colab": {
          "base_uri": "https://localhost:8080/"
        },
        "id": "ZgUIrwv37qez",
        "outputId": "2b36b1f6-fa7c-4af6-9b1f-dffbe2212dbb"
      },
      "execution_count": null,
      "outputs": [
        {
          "output_type": "stream",
          "name": "stdout",
          "text": [
            "<class '__main__.Myclass'>\n"
          ]
        }
      ]
    },
    {
      "cell_type": "code",
      "source": [
        "class Myclass:\n",
        "  x=5\n",
        "p1= Myclass.x\n",
        "print(p1)"
      ],
      "metadata": {
        "colab": {
          "base_uri": "https://localhost:8080/"
        },
        "id": "VULMFC3T76u6",
        "outputId": "4ff19780-ae33-4ad5-892a-0130a9767a6d"
      },
      "execution_count": null,
      "outputs": [
        {
          "output_type": "stream",
          "name": "stdout",
          "text": [
            "5\n"
          ]
        }
      ]
    },
    {
      "cell_type": "code",
      "source": [
        "class Person:\n",
        "  def __init__(self, name, age): #\n",
        "    self.namee= name\n",
        "    self.agee= age\n",
        "p1=Person('ananya',20)\n",
        "print(p1.namee)"
      ],
      "metadata": {
        "colab": {
          "base_uri": "https://localhost:8080/"
        },
        "id": "-H9jJDmv7-0u",
        "outputId": "807788da-ca75-4e76-a164-2a54c8bed054"
      },
      "execution_count": null,
      "outputs": [
        {
          "output_type": "stream",
          "name": "stdout",
          "text": [
            "ananya\n"
          ]
        }
      ]
    },
    {
      "cell_type": "code",
      "source": [
        "class Person:\n",
        "  def __init__(self, name, age):\n",
        "    self.namee=name\n",
        "    self.agee=age\n",
        "name=input(\"Enter name: \")\n",
        "age=int(input(\"Enter age: \"))\n",
        "\n",
        "p1=Person(name,age) #set instance/object value\n",
        "print(p1.namee+\" \"+str(p1.agee))"
      ],
      "metadata": {
        "colab": {
          "base_uri": "https://localhost:8080/"
        },
        "id": "Izvz2L9WdWGX",
        "outputId": "f48e557c-2b2e-48d4-e303-1eb62916c37f"
      },
      "execution_count": null,
      "outputs": [
        {
          "output_type": "stream",
          "name": "stdout",
          "text": [
            "Enter name: ananya\n",
            "Enter age: 20\n",
            "ananya 20\n"
          ]
        }
      ]
    },
    {
      "cell_type": "code",
      "source": [
        "#pass\n",
        "class Person:\n",
        "  pass"
      ],
      "metadata": {
        "id": "ykOltwauEmYx"
      },
      "execution_count": 1,
      "outputs": []
    },
    {
      "cell_type": "code",
      "source": [
        "#delete\n",
        "class Person:\n",
        "  def __init__(self,name,age):\n",
        "    self.name=name\n",
        "    self.age=age\n",
        "p1=Person(\"ana\",11)\n",
        "del p1\n",
        "#p1 deleted"
      ],
      "metadata": {
        "id": "xF9OOupjEwfo"
      },
      "execution_count": 3,
      "outputs": []
    },
    {
      "cell_type": "code",
      "source": [
        "#inheritence\n",
        "# a file called student have some data that is been imported in the other file\n",
        "#student.py\n",
        "class Student():\n",
        "  name=\"tom\"\n",
        "  rollno=22\n",
        "\n",
        "#other file\n",
        "#from student import Student\n",
        "class Person(Student):\n",
        "  pass\n",
        "p1= Person()\n",
        "print(p1.name)"
      ],
      "metadata": {
        "colab": {
          "base_uri": "https://localhost:8080/"
        },
        "id": "H4WDARoEIHei",
        "outputId": "fd79afae-4e5d-4839-892f-cb31bdd10dda"
      },
      "execution_count": 4,
      "outputs": [
        {
          "output_type": "stream",
          "name": "stdout",
          "text": [
            "tom\n"
          ]
        }
      ]
    }
  ]
}